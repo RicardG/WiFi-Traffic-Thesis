{
 "cells": [
  {
   "cell_type": "markdown",
   "metadata": {},
   "source": [
    "# Intensity Free<br>\n",
    "A modification of the original intensity free script to provide simulation of new data points and culling of input data points, in line with modelling the RHS of the split distribution"
   ]
  },
  {
   "cell_type": "markdown",
   "metadata": {},
   "source": [
    "# Licence\n",
    "BSD 3-Clause License\n",
    "\n",
    "Copyright (c) 2020, Cyber Security Research Centre Limited\n",
    "All rights reserved.\n",
    "\n",
    "Redistribution and use in source and binary forms, with or without\n",
    "modification, are permitted provided that the following conditions are met:\n",
    "\n",
    "1. Redistributions of source code must retain the above copyright notice, this\n",
    "   list of conditions and the following disclaimer.\n",
    "\n",
    "2. Redistributions in binary form must reproduce the above copyright notice,\n",
    "   this list of conditions and the following disclaimer in the documentation\n",
    "   and/or other materials provided with the distribution.\n",
    "\n",
    "3. Neither the name of the copyright holder nor the names of its\n",
    "   contributors may be used to endorse or promote products derived from\n",
    "   this software without specific prior written permission.\n",
    "\n",
    "THIS SOFTWARE IS PROVIDED BY THE COPYRIGHT HOLDERS AND CONTRIBUTORS \"AS IS\"\n",
    "AND ANY EXPRESS OR IMPLIED WARRANTIES, INCLUDING, BUT NOT LIMITED TO, THE\n",
    "IMPLIED WARRANTIES OF MERCHANTABILITY AND FITNESS FOR A PARTICULAR PURPOSE ARE\n",
    "DISCLAIMED. IN NO EVENT SHALL THE COPYRIGHT HOLDER OR CONTRIBUTORS BE LIABLE\n",
    "FOR ANY DIRECT, INDIRECT, INCIDENTAL, SPECIAL, EXEMPLARY, OR CONSEQUENTIAL\n",
    "DAMAGES (INCLUDING, BUT NOT LIMITED TO, PROCUREMENT OF SUBSTITUTE GOODS OR\n",
    "SERVICES; LOSS OF USE, DATA, OR PROFITS; OR BUSINESS INTERRUPTION) HOWEVER\n",
    "CAUSED AND ON ANY THEORY OF LIABILITY, WHETHER IN CONTRACT, STRICT LIABILITY,\n",
    "OR TORT (INCLUDING NEGLIGENCE OR OTHERWISE) ARISING IN ANY WAY OUT OF THE USE\n",
    "OF THIS SOFTWARE, EVEN IF ADVISED OF THE POSSIBILITY OF SUCH DAMAGE.\n",
    "\n"
   ]
  },
  {
   "cell_type": "markdown",
   "metadata": {},
   "source": [
    "## Preconfiguration/Setup"
   ]
  },
  {
   "cell_type": "code",
   "execution_count": null,
   "metadata": {
    "colab": {},
    "colab_type": "code",
    "id": "VYeJg141KH2p"
   },
   "outputs": [],
   "source": [
    "#files\n",
    "modelSaveLoc = \"/ifl-tpp/model.pt\" #where to save the learned model\n",
    "distSaveLoc = f\"/ifl-tpp/data/synth.npz\" #where to save the simulated distribution\n",
    "backendCodeLoc = \"/ifl-tpp/code\"\n",
    "\n",
    "#tweakables\n",
    "RHS_only = True #Model only the RHS of the distribution. Only works with one input file.\n",
    "min_val = 0.00025 #all interarrivals less than this will be culled if RHS_only is true (this is the split location)"
   ]
  },
  {
   "cell_type": "code",
   "execution_count": null,
   "metadata": {
    "colab": {},
    "colab_type": "code",
    "id": "OFLwVb1acmJZ"
   },
   "outputs": [],
   "source": [
    "#scripts for formatting the data to be used by this script. Expects the original data to be in 'data.csv'\n",
    "#this can be changed inside package_data.py\n",
    "#!cd \"/ifl-tpp/\"; python package_data.py 4 12.5 128\n",
    "#!cd \"/ifl-tpp/\"; python package_data.py 1 45 128"
   ]
  },
  {
   "cell_type": "code",
   "execution_count": null,
   "metadata": {
    "colab": {
     "base_uri": "https://localhost:8080/",
     "height": 74
    },
    "colab_type": "code",
    "executionInfo": {
     "elapsed": 16338,
     "status": "ok",
     "timestamp": 1597892988488,
     "user": {
      "displayName": "Ricard Grace",
      "photoUrl": "",
      "userId": "05230357400426444879"
     },
     "user_tz": -600
    },
    "id": "o65Z3yJ9DAs3",
    "outputId": "959e252e-9e7e-4dcc-e922-928d58d1645a"
   },
   "outputs": [
    {
     "name": "stderr",
     "output_type": "stream",
     "text": [
      "/usr/local/lib/python3.6/dist-packages/statsmodels/tools/_testing.py:19: FutureWarning: pandas.util.testing is deprecated. Use the functions in the public API at pandas.testing instead.\n",
      "  import pandas.util.testing as tm\n"
     ]
    }
   ],
   "source": [
    "import sys\n",
    "sys.path.append(backendCodeLoc)\n",
    "import dpp\n",
    "import numpy as np\n",
    "import torch\n",
    "import torch.nn as nn\n",
    "import torch.distributions as td\n",
    "from copy import deepcopy\n",
    "import matplotlib.pyplot as plt\n",
    "import seaborn as sns\n",
    "sns.set_style('whitegrid')\n",
    "torch.set_default_tensor_type(torch.cuda.FloatTensor)"
   ]
  },
  {
   "cell_type": "markdown",
   "metadata": {
    "colab_type": "text",
    "id": "SMYU9kVGDAtE"
   },
   "source": [
    "## Config\n",
    "\n",
    "Change the values bellow to train on other datasets / with other models."
   ]
  },
  {
   "cell_type": "code",
   "execution_count": null,
   "metadata": {
    "colab": {},
    "colab_type": "code",
    "id": "pHb03bgJDAtF"
   },
   "outputs": [],
   "source": [
    "seed = 1\n",
    "np.random.seed(seed)\n",
    "torch.manual_seed(seed)\n",
    "\n",
    "## General data config\n",
    "dataset_name = '4-raw' # the name of the dataset to use, expects it in the 'data' folder\n",
    "\n",
    "split = 'whole_sequences' # How to split the sequences (other 'each_sequence' -- split every seq. into train/val/test)\n",
    "\n",
    "## General model config\n",
    "use_history = True        # Whether to use RNN to encode history\n",
    "history_size = 64         # Size of the RNN hidden vector\n",
    "rnn_type = 'LSTM'         # Which RNN cell to use (other: ['GRU', 'LSTM'])\n",
    "use_embedding = False     # Whether to use sequence embedding (should use with 'each_sequence' split)\n",
    "embedding_size = 64       # Size of the sequence embedding vector\n",
    "                          # IMPORTANT: when using split = 'whole_sequences', the model will only learn embeddings\n",
    "                          # for the training sequences, and not for validation / test\n",
    "trainable_affine = False  # Train the final affine layer\n",
    "\n",
    "## Decoder config\n",
    "decoder_name = 'LogNormMix' # other: ['RMTPP', 'FullyNeuralNet', 'Exponential', 'SOSPolynomial', 'DeepSigmoidalFlow']\n",
    "n_components = 32           # Number of components for a mixture model\n",
    "hypernet_hidden_sizes = []  # Number of units in MLP generating parameters ([] -- affine layer, [64] -- one layer, etc.)\n",
    "\n",
    "## Flow params\n",
    "# Polynomial\n",
    "max_degree = 3  # Maximum degree value for Sum-of-squares polynomial flow (SOS)\n",
    "n_terms = 4     # Number of terms for SOS flow\n",
    "# DSF / FullyNN\n",
    "n_layers = 2    # Number of layers for Deep Sigmoidal Flow (DSF) / Fully Neural Network flow (Omi et al., 2019)\n",
    "layer_size = 64 # Number of mixture components / units in a layer for DSF and FullyNN\n",
    "\n",
    "## Training config\n",
    "regularization = 1e-5 # L2 regularization parameter\n",
    "learning_rate = 1e-3  # Learning rate for Adam optimizer\n",
    "max_epochs = 5000     # For how many epochs to train\n",
    "display_step = 50     # Display training statistics after every display_step\n",
    "patience = 50         # After how many consecutive epochs without improvement of val loss to stop training"
   ]
  },
  {
   "cell_type": "markdown",
   "metadata": {
    "colab_type": "text",
    "id": "orqc-GmIDAtQ"
   },
   "source": [
    "## Data\n",
    "\n",
    "- Load dataset\n",
    "- Split into training / validation / test set\n",
    "- Normalize input inter-event times\n",
    "- Break down long traning set sequences"
   ]
  },
  {
   "cell_type": "code",
   "execution_count": null,
   "metadata": {
    "colab": {
     "base_uri": "https://localhost:8080/",
     "height": 54
    },
    "colab_type": "code",
    "executionInfo": {
     "elapsed": 28460,
     "status": "ok",
     "timestamp": 1597893000672,
     "user": {
      "displayName": "Ricard Grace",
      "photoUrl": "",
      "userId": "05230357400426444879"
     },
     "user_tz": -600
    },
    "id": "EhAohwQwDAtR",
    "outputId": "5d4a360d-181e-445d-d4d7-ff766cbc3497"
   },
   "outputs": [
    {
     "name": "stdout",
     "output_type": "stream",
     "text": [
      "Loading data...\n",
      "0.00039005299913696945\n"
     ]
    }
   ],
   "source": [
    "if '+' not in dataset_name:\n",
    "    if (RHS_only):\n",
    "        dataset = dpp.data.load_dataset_min(dataset_name, min_val=min_val)\n",
    "    else:\n",
    "        dataset = dpp.data.load_dataset(dataset_name)\n",
    "else:\n",
    "    # If '+' in dataset_name, load all the datasets together and concatenate them\n",
    "    # For example, dataset_name='synth/poisson+synth/renewal' loads poisson and renewal datasets\n",
    "    dataset_names = [d.strip() for d in dataset_name.split('+')]\n",
    "    dataset = dpp.data.load_dataset(dataset_names.pop(0))\n",
    "    for d in dataset_names:\n",
    "        dataset += dpp.data.load_dataset(dataset_names.pop(0))\n",
    "\n",
    "# Split into train/val/test, on each sequence or assign whole sequences to different sets\n",
    "if split == 'each_sequence':\n",
    "    d_train, d_val, d_test = dataset.train_val_test_split_each(seed=seed)\n",
    "elif split == 'whole_sequences':\n",
    "    d_train, d_val, d_test = dataset.train_val_test_split_whole(seed=seed)\n",
    "else:\n",
    "    raise ValueError(f'Unsupported dataset split {split}')\n",
    "\n",
    "# Calculate mean and std of the input inter-event times and normalize only input\n",
    "mean_in_train, std_in_train = d_train.get_mean_std_in()\n",
    "std_out_train = 1.0\n",
    "d_train.normalize(mean_in_train, std_in_train, std_out_train)\n",
    "d_val.normalize(mean_in_train, std_in_train, std_out_train)\n",
    "d_test.normalize(mean_in_train, std_in_train, std_out_train)\n",
    "\n",
    "# Break down long train sequences for faster batch traning and create torch DataLoaders\n",
    "d_train.break_down_long_sequences(128)\n",
    "collate = dpp.data.collate\n",
    "dl_train = torch.utils.data.DataLoader(d_train, batch_size=64, shuffle=True, collate_fn=collate)\n",
    "dl_val = torch.utils.data.DataLoader(d_val, batch_size=1, shuffle=False, collate_fn=collate)\n",
    "dl_test = torch.utils.data.DataLoader(d_test, batch_size=1, shuffle=False, collate_fn=collate)\n",
    "\n",
    "# Set the parameters for affine normalization layer depending on the decoder (see Appendix D.3 in the paper)\n",
    "if decoder_name in ['RMTPP', 'FullyNeuralNet', 'Exponential']:\n",
    "    _, std_out_train = d_train.get_mean_std_out()\n",
    "    mean_out_train = 0.0\n",
    "else:\n",
    "    mean_out_train, std_out_train = d_train.get_log_mean_std_out()"
   ]
  },
  {
   "cell_type": "markdown",
   "metadata": {
    "colab_type": "text",
    "id": "IjzxtSu5DAtb"
   },
   "source": [
    "## Model setup\n",
    "\n",
    "- Define the model config\n",
    "- Define the optimizer"
   ]
  },
  {
   "cell_type": "code",
   "execution_count": null,
   "metadata": {
    "colab": {},
    "colab_type": "code",
    "id": "OoZOgxYnDAtc"
   },
   "outputs": [],
   "source": [
    "# General model config\n",
    "general_config = dpp.model.ModelConfig(\n",
    "    use_history=use_history,\n",
    "    history_size=history_size,\n",
    "    rnn_type=rnn_type,\n",
    "    use_embedding=use_embedding,\n",
    "    embedding_size=embedding_size,\n",
    "    num_embeddings=len(dataset),\n",
    ")\n",
    "\n",
    "# Decoder specific config\n",
    "decoder = getattr(dpp.decoders, decoder_name)(general_config,\n",
    "                                              n_components=n_components,\n",
    "                                              hypernet_hidden_sizes=hypernet_hidden_sizes,\n",
    "                                              max_degree=max_degree,\n",
    "                                              n_terms=n_terms,\n",
    "                                              n_layers=n_layers,\n",
    "                                              layer_size=layer_size,\n",
    "                                              shift_init=mean_out_train,\n",
    "                                              scale_init=std_out_train,\n",
    "                                              trainable_affine=trainable_affine)\n",
    "\n",
    "# Define model\n",
    "model = dpp.model.Model(general_config, decoder)\n",
    "model.use_history(general_config.use_history)\n",
    "model.use_embedding(general_config.use_embedding)\n",
    "\n",
    "# Define optimizer\n",
    "opt = torch.optim.Adam(model.parameters(), weight_decay=regularization, lr=learning_rate)"
   ]
  },
  {
   "cell_type": "markdown",
   "metadata": {
    "colab_type": "text",
    "id": "a1fxfMJvDAtj"
   },
   "source": [
    "## Training\n",
    "\n",
    "- Run for max_epochs or until the early stopping condition is satisfied\n",
    "- Calculate and save the training statistics"
   ]
  },
  {
   "cell_type": "code",
   "execution_count": null,
   "metadata": {
    "colab": {},
    "colab_type": "code",
    "id": "9AxFRbv7DAtk"
   },
   "outputs": [],
   "source": [
    "# Function that calculates the loss for the entire dataloader\n",
    "def get_total_loss(loader):\n",
    "    loader_log_prob, loader_lengths = [], []\n",
    "    for input in loader:\n",
    "        loader_log_prob.append(model.log_prob(input).detach())\n",
    "        loader_lengths.append(input.length.detach())\n",
    "    return -model.aggregate(loader_log_prob, loader_lengths)"
   ]
  },
  {
   "cell_type": "code",
   "execution_count": null,
   "metadata": {
    "colab": {
     "base_uri": "https://localhost:8080/",
     "height": 311
    },
    "colab_type": "code",
    "executionInfo": {
     "elapsed": 914943,
     "status": "ok",
     "timestamp": 1597893887181,
     "user": {
      "displayName": "Ricard Grace",
      "photoUrl": "",
      "userId": "05230357400426444879"
     },
     "user_tz": -600
    },
    "id": "JLjWS14vDAts",
    "outputId": "81c83017-c724-40b9-b960-8b94c2d5297f"
   },
   "outputs": [
    {
     "name": "stdout",
     "output_type": "stream",
     "text": [
      "Epoch   50, loss_train_last_batch = -2.1351, loss_val = -2.4847\n",
      "Epoch  100, loss_train_last_batch = -3.1897, loss_val = -2.5670\n",
      "Epoch  150, loss_train_last_batch = -2.7778, loss_val = -2.6492\n",
      "Epoch  200, loss_train_last_batch = -2.5979, loss_val = -2.6939\n",
      "Epoch  250, loss_train_last_batch = -4.4496, loss_val = -2.7043\n",
      "Epoch  300, loss_train_last_batch = -3.6371, loss_val = -2.7804\n",
      "Epoch  350, loss_train_last_batch = -3.4573, loss_val = -2.8355\n",
      "Epoch  400, loss_train_last_batch = -2.7067, loss_val = -2.8411\n",
      "Epoch  450, loss_train_last_batch = -2.3216, loss_val = -2.8692\n",
      "Epoch  500, loss_train_last_batch = -2.3602, loss_val = -2.8710\n",
      "Epoch  550, loss_train_last_batch = -3.0704, loss_val = -2.8668\n",
      "Epoch  600, loss_train_last_batch = -3.5139, loss_val = -2.8967\n",
      "Epoch  650, loss_train_last_batch = -3.5007, loss_val = -2.9034\n",
      "Epoch  700, loss_train_last_batch = -3.6317, loss_val = -2.9141\n",
      "Epoch  750, loss_train_last_batch = -2.8044, loss_val = -2.9124\n",
      "Breaking due to early stopping at epoch 759\n"
     ]
    }
   ],
   "source": [
    "impatient = 0\n",
    "best_loss = np.inf\n",
    "best_model = deepcopy(model.state_dict())\n",
    "training_val_losses = []\n",
    "for epoch in range(max_epochs):\n",
    "    model.train()\n",
    "    for input in dl_train:\n",
    "        opt.zero_grad()\n",
    "        log_prob = model.log_prob(input)\n",
    "        loss = -model.aggregate(log_prob, input.length)\n",
    "        loss.backward()\n",
    "        opt.step()\n",
    "\n",
    "    model.eval()\n",
    "    loss_val = get_total_loss(dl_val)\n",
    "    training_val_losses.append(loss_val.item())\n",
    "\n",
    "    if (best_loss - loss_val) < 1e-4:\n",
    "        impatient += 1\n",
    "        if loss_val < best_loss:\n",
    "            best_loss = loss_val.item()\n",
    "            best_model = deepcopy(model.state_dict())\n",
    "    else:\n",
    "        best_loss = loss_val.item()\n",
    "        best_model = deepcopy(model.state_dict())\n",
    "        impatient = 0\n",
    "\n",
    "    if impatient >= patience:\n",
    "        print(f'Breaking due to early stopping at epoch {epoch}')\n",
    "        break\n",
    "\n",
    "    if (epoch + 1) % display_step == 0:\n",
    "        print(f\"Epoch {epoch+1:4d}, loss_train_last_batch = {loss:.4f}, loss_val = {loss_val:.4f}\")"
   ]
  },
  {
   "cell_type": "markdown",
   "metadata": {
    "colab_type": "text",
    "id": "V_mU3KgIDAt0"
   },
   "source": [
    "## Evaluation\n",
    "\n",
    "- Load the best model\n",
    "- Calculate the train/val/test loss\n",
    "- Plot the training curve"
   ]
  },
  {
   "cell_type": "code",
   "execution_count": null,
   "metadata": {
    "colab": {
     "base_uri": "https://localhost:8080/",
     "height": 90
    },
    "colab_type": "code",
    "executionInfo": {
     "elapsed": 917254,
     "status": "ok",
     "timestamp": 1597893889506,
     "user": {
      "displayName": "Ricard Grace",
      "photoUrl": "",
      "userId": "05230357400426444879"
     },
     "user_tz": -600
    },
    "id": "82p4pNrMDAt1",
    "outputId": "7416ae07-65ca-4a90-9892-2fbc502dfae1"
   },
   "outputs": [
    {
     "name": "stdout",
     "output_type": "stream",
     "text": [
      "Time NLL\n",
      "Train: -3.1024\n",
      "Val:   -2.9388\n",
      "Test:  -2.8956\n"
     ]
    }
   ],
   "source": [
    "model.load_state_dict(best_model)\n",
    "model.eval()\n",
    "torch.save(model.state_dict(), modelSaveLoc) #save the model\n",
    "\n",
    "pdf_loss_train = get_total_loss(dl_train)\n",
    "pdf_loss_val = get_total_loss(dl_val)\n",
    "pdf_loss_test = get_total_loss(dl_test)\n",
    "\n",
    "print(f'Time NLL\\n'\n",
    "      f'Train: {pdf_loss_train:.4f}\\n'\n",
    "      f'Val:   {pdf_loss_val.item():.4f}\\n' \n",
    "      f'Test:  {pdf_loss_test.item():.4f}')"
   ]
  },
  {
   "cell_type": "code",
   "execution_count": null,
   "metadata": {
    "colab": {
     "base_uri": "https://localhost:8080/",
     "height": 295
    },
    "colab_type": "code",
    "executionInfo": {
     "elapsed": 917250,
     "status": "ok",
     "timestamp": 1597893889513,
     "user": {
      "displayName": "Ricard Grace",
      "photoUrl": "",
      "userId": "05230357400426444879"
     },
     "user_tz": -600
    },
    "id": "ysSXegSGDAt6",
    "outputId": "b0ed1de7-ff04-4543-a08a-1fa17578609b"
   },
   "outputs": [
    {
     "data": {
      "image/png": "[encoded data removed]",
      "text/plain": [
       "<Figure size 432x288 with 1 Axes>"
      ]
     },
     "metadata": {
      "tags": []
     },
     "output_type": "display_data"
    }
   ],
   "source": [
    "training_val_losses = training_val_losses[:-patience] # plot only until early stopping\n",
    "plt.plot(range(len(training_val_losses)), training_val_losses)\n",
    "plt.ylabel('Validation loss')\n",
    "plt.xlabel('Epoch')\n",
    "plt.title(f'Training on \"{dataset_name}\" dataset')\n",
    "plt.show()"
   ]
  },
  {
   "cell_type": "markdown",
   "metadata": {
    "colab_type": "text",
    "id": "VOrnlinM6VIU"
   },
   "source": [
    "# Simulation (Added)"
   ]
  },
  {
   "cell_type": "code",
   "execution_count": null,
   "metadata": {
    "colab": {
     "base_uri": "https://localhost:8080/",
     "height": 54
    },
    "colab_type": "code",
    "executionInfo": {
     "elapsed": 4716,
     "status": "ok",
     "timestamp": 1597894620048,
     "user": {
      "displayName": "Ricard Grace",
      "photoUrl": "",
      "userId": "05230357400426444879"
     },
     "user_tz": -600
    },
    "id": "4oCTeMnLaIfv",
    "outputId": "108cd462-ffbc-4d6a-ba00-40de3ac5b371"
   },
   "outputs": [
    {
     "name": "stdout",
     "output_type": "stream",
     "text": [
      "100.0%\n",
      "oh no: 12485 (6.9748603351955305%)\n"
     ]
    }
   ],
   "source": [
    "#this simulation loop is very slow, so prepare to wait if generating any significant number of new points\n",
    "\n",
    "#load the best model\n",
    "model = dpp.model.Model(general_config, decoder)\n",
    "model.use_history(general_config.use_history)\n",
    "model.use_embedding(general_config.use_embedding)\n",
    "model.load_state_dict(torch.load(modelSaveLoc))\n",
    "model.eval()\n",
    "\n",
    "sec = 1000000000 #ns\n",
    "#tweakable parameters\n",
    "stop = 179000 #how many points to simmulate\n",
    "upper_limit = 36 #the maximum interarrival time allowed (anything greater is culled)\n",
    "\n",
    "#do the input loop\n",
    "#get a length of data to use as the starting history input\n",
    "#format it so it can understand it\n",
    "#do the prediction and transformations\n",
    "#feed the result back in as extra history\n",
    "\n",
    "#data to simulate, this should be the same as what was used to train the model\n",
    "f = np.load(f\"/ifl-tpp/data/{dataset_name}.npz\", allow_pickle=True)\n",
    "\n",
    "#prepare data for simulation\n",
    "deltas = np.ediff1d(np.concatenate(f[\"arrival_times\"]))\n",
    "deltas = deltas[deltas >= min_val]\n",
    "chunkSize = 128\n",
    "#resplit\n",
    "deltas = np.asarray([list(np.concatenate([[1.0],deltas[x+1:x+chunkSize]])) for x in range(0, len(deltas), chunkSize)])\n",
    "history_input = [deltas[-10].copy()]\n",
    "\n",
    "new_points = []\n",
    "i = 0\n",
    "oh_no = 0 #problems\n",
    "\n",
    "while (i < stop):\n",
    "    #print(history_input)\n",
    "\n",
    "    d_hist = dpp.data.SequenceDataset(delta_times=history_input, log_mode=True)\n",
    "    d_hist.normalize(mean_in_train, std_in_train, std_out_train)\n",
    "    dl_hist = torch.utils.data.DataLoader(d_hist, batch_size=1, shuffle=False, collate_fn=collate)\n",
    "\n",
    "    for input in dl_hist:\n",
    "        #print(input)\n",
    "        predictionl = model.predict(input).detach()\n",
    "        break\n",
    "\n",
    "    #data transformation process\n",
    "    #when loaded, turned into log via natural logarithm\n",
    "    #before training, data is normalised\n",
    "    #training is performed\n",
    "    #predict new points given history (needs to be logged and normalised [using same normalisation parameters])\n",
    "    #given a list of points (most likely each point is using the last n points as history)\n",
    "\n",
    "    prediction = predictionl[0]\n",
    "    #reverse the normalisation => self.in_times = [(t - mean_in) / std_in for t in self.in_times]\n",
    "    #reverse the log\n",
    "    #from the top => mean_in_train, std_in_train\n",
    "    delta = ((prediction * std_in_train) + mean_in_train).exp().cpu().numpy().item() #the end bit removes it from the gpu\n",
    "\n",
    "    \n",
    "    #if the generated point is outside reasonable bounds (cull anything less than 1ns and > max time)\n",
    "    if (delta < 0.1/sec or delta > upper_limit):\n",
    "        #print(f\"oh no: {delta}\")\n",
    "        oh_no += 1\n",
    "    else:\n",
    "        #add on new point\n",
    "        new_points.append(delta)\n",
    "        history_input[0] = np.roll(history_input[0],-1)\n",
    "        history_input[0][-1] = delta\n",
    "        i += 1\n",
    "        if (i % 200 == 0):\n",
    "            print(f\"\\r{' '*20}\\r{100*i/stop}%\", flush=True, end='')\n",
    "\n",
    "new_points = np.array(new_points)\n",
    "\n",
    "print(f\"\\Culled Points: {oh_no} ({100/stop * oh_no}%)\")\n"
   ]
  },
  {
   "cell_type": "code",
   "execution_count": null,
   "metadata": {
    "colab": {},
    "colab_type": "code",
    "id": "w7dbX_odknUx"
   },
   "outputs": [],
   "source": [
    "#Save the generated points\n",
    "np.savez(modelSaveLoc, deltas=new_points)"
   ]
  }
 ],
 "metadata": {
  "accelerator": "GPU",
  "colab": {
   "collapsed_sections": [],
   "name": "interactive.ipynb",
   "provenance": [],
   "toc_visible": true
  },
  "kernelspec": {
   "display_name": "Python 3",
   "language": "python",
   "name": "python3"
  },
  "language_info": {
   "codemirror_mode": {
    "name": "ipython",
    "version": 3
   },
   "file_extension": ".py",
   "mimetype": "text/x-python",
   "name": "python",
   "nbconvert_exporter": "python",
   "pygments_lexer": "ipython3",
   "version": "3.7.7"
  }
 },
 "nbformat": 4,
 "nbformat_minor": 1
}
