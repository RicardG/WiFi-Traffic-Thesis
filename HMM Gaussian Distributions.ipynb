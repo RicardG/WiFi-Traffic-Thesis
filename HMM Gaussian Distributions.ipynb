{
 "cells": [
  {
   "cell_type": "markdown",
   "metadata": {},
   "source": [
    "<h1>HMM Gaussian Distributions</h1><br>\n",
    "This script is used to model and generate both the RHS distribution and the ordering distribution using a Hidden Markov Model. Switching between the two is a matter of tweaking parameters."
   ]
  },
  {
   "cell_type": "markdown",
   "metadata": {},
   "source": [
    "# Licence\n",
    "BSD 3-Clause License\n",
    "\n",
    "Copyright (c) 2020, Cyber Security Research Centre Limited\n",
    "All rights reserved.\n",
    "\n",
    "Redistribution and use in source and binary forms, with or without\n",
    "modification, are permitted provided that the following conditions are met:\n",
    "\n",
    "1. Redistributions of source code must retain the above copyright notice, this\n",
    "   list of conditions and the following disclaimer.\n",
    "\n",
    "2. Redistributions in binary form must reproduce the above copyright notice,\n",
    "   this list of conditions and the following disclaimer in the documentation\n",
    "   and/or other materials provided with the distribution.\n",
    "\n",
    "3. Neither the name of the copyright holder nor the names of its\n",
    "   contributors may be used to endorse or promote products derived from\n",
    "   this software without specific prior written permission.\n",
    "\n",
    "THIS SOFTWARE IS PROVIDED BY THE COPYRIGHT HOLDERS AND CONTRIBUTORS \"AS IS\"\n",
    "AND ANY EXPRESS OR IMPLIED WARRANTIES, INCLUDING, BUT NOT LIMITED TO, THE\n",
    "IMPLIED WARRANTIES OF MERCHANTABILITY AND FITNESS FOR A PARTICULAR PURPOSE ARE\n",
    "DISCLAIMED. IN NO EVENT SHALL THE COPYRIGHT HOLDER OR CONTRIBUTORS BE LIABLE\n",
    "FOR ANY DIRECT, INDIRECT, INCIDENTAL, SPECIAL, EXEMPLARY, OR CONSEQUENTIAL\n",
    "DAMAGES (INCLUDING, BUT NOT LIMITED TO, PROCUREMENT OF SUBSTITUTE GOODS OR\n",
    "SERVICES; LOSS OF USE, DATA, OR PROFITS; OR BUSINESS INTERRUPTION) HOWEVER\n",
    "CAUSED AND ON ANY THEORY OF LIABILITY, WHETHER IN CONTRACT, STRICT LIABILITY,\n",
    "OR TORT (INCLUDING NEGLIGENCE OR OTHERWISE) ARISING IN ANY WAY OUT OF THE USE\n",
    "OF THIS SOFTWARE, EVEN IF ADVISED OF THE POSSIBILITY OF SUCH DAMAGE.\n",
    "\n"
   ]
  },
  {
   "cell_type": "markdown",
   "metadata": {},
   "source": [
    "<h2>Setup</h2>"
   ]
  },
  {
   "cell_type": "code",
   "execution_count": 1,
   "metadata": {},
   "outputs": [],
   "source": [
    "import numpy as np\n",
    "from hmmlearn import hmm\n",
    "import matplotlib.pyplot as plt\n",
    "import pandas as pd\n",
    "import pickle\n",
    "import os"
   ]
  },
  {
   "cell_type": "code",
   "execution_count": 2,
   "metadata": {},
   "outputs": [],
   "source": [
    "#convenience variables\n",
    "sec = 1000000000\n",
    "split_time = 0.00025\n",
    "\n",
    "#tweakable parameters\n",
    "data_csv = 'data.csv'  #the raw data\n",
    "c_id = 4               #client to generate a distribution for\n",
    "n_components = 25      #components in the HMM distribution\n",
    "ordering_model = False #True: generates an ordering HMM. False: generates a RHS distribution HMM\n",
    "max_iterations = 40    #maximum iterations for HMM training\n",
    "num_samples = 270000   #how many data points to generate during simulation\n",
    "\n",
    "#file names\n",
    "RHS_dist_file = f\"HMM_{n_components}_RHS_dist_c{c_id}.npz\" #save\n",
    "RHS_model_file = f\"HMM_{n_components}_RHS_model_c{c_id}.pkl\" #save\n",
    "ordering_dist_file = f\"HMM_{n_components}_ordering_dist_c{c_id}.npz\" #save\n",
    "ordering_model_file = f\"HMM_{n_components}_ordering_model_c{c_id}.pkl\" #save\n",
    "dist_folder = \"saved_dist\"\n",
    "model_folder = \"saved_model\""
   ]
  },
  {
   "cell_type": "markdown",
   "metadata": {},
   "source": [
    "<h2>Data Loading</h2>"
   ]
  },
  {
   "cell_type": "code",
   "execution_count": 3,
   "metadata": {},
   "outputs": [],
   "source": [
    "#prepend the folder location\n",
    "RHS_dist_file = os.path.join(dist_folder, RHS_dist_file)\n",
    "RHS_model_file = os.path.join(model_folder, RHS_model_file)\n",
    "ordering_dist_file = os.path.join(dist_folder, ordering_dist_file)\n",
    "ordering_model_file = os.path.join(model_folder, ordering_model_file)\n",
    "\n",
    "#load the raw data\n",
    "X = pd.read_csv(data_csv)\n",
    "orig_times = X[(X.client_id == c_id)].time.apply(lambda x:x/sec) #convert to seconds\n",
    "orig_delta = np.ediff1d(orig_times)\n",
    "\n",
    "#RHS distribution\n",
    "if (not ordering_model):\n",
    "    orig_delta = orig_delta[orig_delta > split_time] #after the split\n",
    "    delta_min = np.min(orig_delta)\n",
    "    orig_delta = orig_delta - delta_min\n",
    "#ordering distribution\n",
    "else:\n",
    "    orig_delta = np.array(list(map((lambda x: 1 if x > split_time else 0), orig_delta)))"
   ]
  },
  {
   "cell_type": "markdown",
   "metadata": {},
   "source": [
    "<h2>Training</h2>"
   ]
  },
  {
   "cell_type": "code",
   "execution_count": 4,
   "metadata": {},
   "outputs": [
    {
     "name": "stderr",
     "output_type": "stream",
     "text": [
      "         1     -682675.0803             +nan\n",
      "         2     -421490.2271     +261184.8532\n",
      "         3     -331509.2830      +89980.9441\n",
      "         4     -205429.5325     +126079.7505\n",
      "         5     -101900.4034     +103529.1291\n",
      "         6      -60878.9681      +41021.4352\n",
      "         7       29289.2845      +90168.2526\n",
      "         8      153440.0451     +124150.7606\n",
      "         9      251796.6635      +98356.6185\n",
      "        10      355774.6131     +103977.9496\n",
      "        11      391319.9880      +35545.3749\n",
      "        12      401264.3426       +9944.3546\n",
      "        13      404543.3488       +3279.0063\n",
      "        14      406409.2722       +1865.9234\n",
      "        15      407985.3647       +1576.0925\n",
      "        16      409354.6573       +1369.2926\n",
      "        17      410413.5803       +1058.9230\n",
      "        18      411269.3297        +855.7495\n",
      "        19      412083.5920        +814.2623\n",
      "        20      412964.6801        +881.0881\n",
      "        21      413895.3351        +930.6550\n",
      "        22      414697.6874        +802.3523\n",
      "        23      415270.8101        +573.1227\n",
      "        24      415707.9998        +437.1897\n",
      "        25      416092.5218        +384.5219\n",
      "        26      416445.5377        +353.0160\n",
      "        27      416766.3432        +320.8054\n",
      "        28      417050.4116        +284.0684\n",
      "        29      417297.5941        +247.1825\n",
      "        30      417517.1548        +219.5607\n",
      "        31      417728.7865        +211.6317\n",
      "        32      417960.3437        +231.5572\n",
      "        33      418237.0330        +276.6893\n",
      "        34      418582.7147        +345.6817\n",
      "        35      419022.7249        +440.0102\n",
      "        36      419489.9014        +467.1765\n",
      "        37      419954.7294        +464.8279\n",
      "        38      420541.4772        +586.7478\n",
      "        39      421021.3817        +479.9045\n",
      "        40      421249.8754        +228.4937\n"
     ]
    }
   ],
   "source": [
    "#n_components = number of states\n",
    "model = hmm.GaussianHMM(n_components=n_components, verbose=True, n_iter=max_iterations).fit(orig_delta.reshape((len(orig_delta),1)))"
   ]
  },
  {
   "cell_type": "markdown",
   "metadata": {},
   "source": [
    "<h2>Simulation</h2>"
   ]
  },
  {
   "cell_type": "code",
   "execution_count": 5,
   "metadata": {},
   "outputs": [],
   "source": [
    "# Generate samples\n",
    "new_X, Z = model.sample(num_samples)"
   ]
  },
  {
   "cell_type": "code",
   "execution_count": 6,
   "metadata": {},
   "outputs": [
    {
     "data": {
      "image/png": "[encoded data removed]",
      "text/plain": [
       "<Figure size 432x288 with 1 Axes>"
      ]
     },
     "metadata": {
      "needs_background": "light"
     },
     "output_type": "display_data"
    }
   ],
   "source": [
    "a = new_X[:, 0]\n",
    "\n",
    "#save everything\n",
    "#RHS distribution\n",
    "if (not ordering_model):\n",
    "    a = a[a > 0]+ delta_min\n",
    "    np.savez(RHS_dist_file, deltas=a)\n",
    "    with open(RHS_model_file, \"wb\") as file: pickle.dump(model, file)\n",
    "#ordering distribution\n",
    "else:\n",
    "    a = np.round(a)\n",
    "    np.savez(ordering_dist_file, dist=a)\n",
    "    with open(ordering_model_file, \"wb\") as file: pickle.dump(model, file)\n",
    "\n",
    "# Plot the sampled data\n",
    "plt.plot(a, \".-\", label=\"observations\", ms=6,\n",
    "         mfc=\"orange\", alpha=0.7)\n",
    "\n",
    "plt.legend(loc='best')\n",
    "plt.show()"
   ]
  }
 ],
 "metadata": {
  "kernelspec": {
   "display_name": "Python 3",
   "language": "python",
   "name": "python3"
  },
  "language_info": {
   "codemirror_mode": {
    "name": "ipython",
    "version": 3
   },
   "file_extension": ".py",
   "mimetype": "text/x-python",
   "name": "python",
   "nbconvert_exporter": "python",
   "pygments_lexer": "ipython3",
   "version": "3.7.7"
  }
 },
 "nbformat": 4,
 "nbformat_minor": 4
}
