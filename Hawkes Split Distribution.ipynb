{
 "cells": [
  {
   "cell_type": "markdown",
   "metadata": {},
   "source": [
    "<h1>Hawkes Split Distribution</h1><br>\n",
    "Training and simulation of a Hawkes process model (EM kernel) on the RHS of the split distribution."
   ]
  },
  {
   "cell_type": "markdown",
   "metadata": {},
   "source": [
    "# Licence\n",
    "BSD 3-Clause License\n",
    "\n",
    "Copyright (c) 2020, Cyber Security Research Centre Limited\n",
    "All rights reserved.\n",
    "\n",
    "Redistribution and use in source and binary forms, with or without\n",
    "modification, are permitted provided that the following conditions are met:\n",
    "\n",
    "1. Redistributions of source code must retain the above copyright notice, this\n",
    "   list of conditions and the following disclaimer.\n",
    "\n",
    "2. Redistributions in binary form must reproduce the above copyright notice,\n",
    "   this list of conditions and the following disclaimer in the documentation\n",
    "   and/or other materials provided with the distribution.\n",
    "\n",
    "3. Neither the name of the copyright holder nor the names of its\n",
    "   contributors may be used to endorse or promote products derived from\n",
    "   this software without specific prior written permission.\n",
    "\n",
    "THIS SOFTWARE IS PROVIDED BY THE COPYRIGHT HOLDERS AND CONTRIBUTORS \"AS IS\"\n",
    "AND ANY EXPRESS OR IMPLIED WARRANTIES, INCLUDING, BUT NOT LIMITED TO, THE\n",
    "IMPLIED WARRANTIES OF MERCHANTABILITY AND FITNESS FOR A PARTICULAR PURPOSE ARE\n",
    "DISCLAIMED. IN NO EVENT SHALL THE COPYRIGHT HOLDER OR CONTRIBUTORS BE LIABLE\n",
    "FOR ANY DIRECT, INDIRECT, INCIDENTAL, SPECIAL, EXEMPLARY, OR CONSEQUENTIAL\n",
    "DAMAGES (INCLUDING, BUT NOT LIMITED TO, PROCUREMENT OF SUBSTITUTE GOODS OR\n",
    "SERVICES; LOSS OF USE, DATA, OR PROFITS; OR BUSINESS INTERRUPTION) HOWEVER\n",
    "CAUSED AND ON ANY THEORY OF LIABILITY, WHETHER IN CONTRACT, STRICT LIABILITY,\n",
    "OR TORT (INCLUDING NEGLIGENCE OR OTHERWISE) ARISING IN ANY WAY OUT OF THE USE\n",
    "OF THIS SOFTWARE, EVEN IF ADVISED OF THE POSSIBILITY OF SUCH DAMAGE.\n",
    "\n"
   ]
  },
  {
   "cell_type": "markdown",
   "metadata": {},
   "source": [
    "<h2>Setup</h2>"
   ]
  },
  {
   "cell_type": "code",
   "execution_count": 1,
   "metadata": {},
   "outputs": [
    {
     "name": "stderr",
     "output_type": "stream",
     "text": [
      "c:\\users\\ricard grace\\appdata\\local\\programs\\python\\python37\\lib\\site-packages\\sklearn\\externals\\joblib\\__init__.py:15: FutureWarning: sklearn.externals.joblib is deprecated in 0.21 and will be removed in 0.23. Please import this functionality directly from joblib, which can be installed with: pip install joblib. If this warning is raised when loading pickled models, you may need to re-serialize those models with scikit-learn 0.21+.\n",
      "  warnings.warn(msg, category=FutureWarning)\n"
     ]
    }
   ],
   "source": [
    "import matplotlib.pyplot as plt\n",
    "import numpy as np\n",
    "import pandas as pd\n",
    "from tick.plot import plot_hawkes_kernels\n",
    "import os\n",
    "from HelperFunctions import MultiHist\n",
    "from TickHelper import TrainEM, SimEM, SavedModel"
   ]
  },
  {
   "cell_type": "code",
   "execution_count": 2,
   "metadata": {},
   "outputs": [],
   "source": [
    "#convenience variables\n",
    "sec = 1000000000\n",
    "split_time = 0.00025\n",
    "\n",
    "#tweakable parameters\n",
    "data_csv = 'data.csv' #the raw data\n",
    "c_id = 4 #client (dataset to use)\n",
    "train_ratio = 0.8 #ratio of how much data for training and testing (0 - 1)\n",
    "#the maximum interarrival time to model. This will change based on the dataset.\n",
    "#Generally set it high enough to capture all the interarrivals. for client 4, 36 seconds is good enough\n",
    "k_time = 36\n",
    "#how many intervals to consider when training each model\n",
    "#Will train 1 model with each kernel size (warning: larger k_sizes vastly increase training time)\n",
    "k_sizes = [18, 36, 72, 180, 360, 720]\n",
    "sim_time = 200000 #time frame to simulate points up to in seconds\n",
    "\n",
    "#files\n",
    "#save model = f\"HawkesEM_{k_sizes[i]}_RHS_model_c{c_id}.npz\" ###if you want to change this you will need to modify two places in the evaluation section\n",
    "#save dist = f\"HawkesEM_{k_sizes[i]}_RHS_dist_c{c_id}.npz\" ###if you want to change this you will need to modify it in evaluation (in one place)\n",
    "dist_folder = \"saved_dist\"\n",
    "model_folder = \"saved_model\""
   ]
  },
  {
   "cell_type": "markdown",
   "metadata": {},
   "source": [
    "<h2>Data Loading</h2>"
   ]
  },
  {
   "cell_type": "code",
   "execution_count": 3,
   "metadata": {},
   "outputs": [],
   "source": [
    "#only include deltas > split_time and shuffle their order to destroy any previous relationships\n",
    "#should only allow learning the intensity\n",
    "X = pd.read_csv(data_csv)\n",
    "deltas = np.ediff1d(X[X.client_id == c_id].time.apply(lambda x:x/sec))\n",
    "#np.random.shuffle(deltas[deltas > split_time])\n",
    "times = np.cumsum(deltas[deltas > split_time])\n",
    "\n",
    "#split into train, val and test sets\n",
    "times_train = times[:int(deltas.size*train_ratio)]\n",
    "times_test = times[int(deltas.size*train_ratio):]"
   ]
  },
  {
   "cell_type": "markdown",
   "metadata": {},
   "source": [
    "<h2>Training</h2><br>Uses a Hawkes EM kernel to model the data since it is clear that an exponential kernel is not good enough"
   ]
  },
  {
   "cell_type": "code",
   "execution_count": 4,
   "metadata": {
    "scrolled": false
   },
   "outputs": [
    {
     "name": "stdout",
     "output_type": "stream",
     "text": [
      "Launching the solver HawkesEM...\n",
      "  n_iter  | rel_baseline | rel_kernel\n",
      "        0 |     6.89e-01 |   7.51e-01\n",
      "       10 |     1.39e-02 |   2.86e-03\n",
      "       20 |     4.72e-03 |   5.02e-04\n",
      "       30 |     1.72e-03 |   1.91e-04\n",
      "       40 |     7.35e-04 |   9.06e-05\n",
      "       50 |     3.63e-04 |   5.01e-05\n",
      "       60 |     2.00e-04 |   3.07e-05\n",
      "       70 |     1.21e-04 |   2.01e-05\n",
      "       80 |     7.78e-05 |   1.38e-05\n",
      "       90 |     5.26e-05 |   9.85e-06\n",
      "      100 |     3.70e-05 |   7.22e-06\n",
      "      110 |     2.68e-05 |   5.41e-06\n",
      "      120 |     1.99e-05 |   4.13e-06\n",
      "      130 |     1.51e-05 |   3.20e-06\n",
      "      140 |     1.16e-05 |   2.52e-06\n",
      "      150 |     9.05e-06 |   2.00e-06\n",
      "Done solving using HawkesEM in 133.80222964286804 seconds\n",
      "Launching the solver HawkesEM...\n",
      "  n_iter  | rel_baseline | rel_kernel\n",
      "        0 |     6.90e-01 |   7.83e-01\n",
      "       10 |     1.11e-02 |   1.38e-03\n",
      "       20 |     3.75e-03 |   2.47e-04\n",
      "       30 |     1.44e-03 |   9.74e-05\n",
      "       40 |     6.74e-04 |   4.76e-05\n",
      "       50 |     3.57e-04 |   2.65e-05\n",
      "       60 |     2.06e-04 |   1.64e-05\n",
      "       70 |     1.27e-04 |   1.11e-05\n",
      "       80 |     8.25e-05 |   8.10e-06\n",
      "       90 |     5.63e-05 |   6.18e-06\n",
      "      100 |     4.02e-05 |   4.85e-06\n",
      "      110 |     2.98e-05 |   3.89e-06\n",
      "      120 |     2.28e-05 |   3.15e-06\n",
      "      130 |     1.79e-05 |   2.58e-06\n",
      "      140 |     1.44e-05 |   2.13e-06\n",
      "      150 |     1.17e-05 |   1.78e-06\n",
      "      160 |     9.72e-06 |   1.49e-06\n",
      "Done solving using HawkesEM in 166.91738629341125 seconds\n",
      "Launching the solver HawkesEM...\n",
      "  n_iter  | rel_baseline | rel_kernel\n",
      "        0 |     7.03e-01 |   8.34e-01\n",
      "       10 |     9.69e-03 |   1.40e-03\n",
      "       20 |     1.37e-03 |   3.09e-04\n",
      "       30 |     5.23e-04 |   9.12e-05\n",
      "       40 |     1.72e-04 |   4.48e-05\n",
      "       50 |     3.97e-05 |   4.47e-05\n",
      "       60 |     1.22e-04 |   4.34e-05\n",
      "       70 |     9.28e-05 |   3.00e-05\n",
      "       80 |     4.14e-05 |   1.74e-05\n",
      "       90 |     9.79e-06 |   1.03e-05\n",
      "      100 |     3.66e-06 |   6.88e-06\n",
      "Done solving using HawkesEM in 112.06430339813232 seconds\n",
      "Launching the solver HawkesEM...\n",
      "  n_iter  | rel_baseline | rel_kernel\n",
      "        0 |     6.72e-01 |   7.58e-01\n",
      "       10 |     4.12e-03 |   1.54e-03\n",
      "       20 |     9.98e-04 |   2.69e-04\n",
      "       30 |     7.41e-04 |   6.48e-05\n",
      "       40 |     3.93e-04 |   2.73e-05\n",
      "       50 |     2.20e-04 |   1.50e-05\n",
      "       60 |     1.34e-04 |   9.49e-06\n",
      "       70 |     8.77e-05 |   6.52e-06\n",
      "       80 |     6.11e-05 |   4.69e-06\n",
      "       90 |     4.45e-05 |   3.49e-06\n",
      "      100 |     3.36e-05 |   2.67e-06\n",
      "      110 |     2.61e-05 |   2.09e-06\n",
      "      120 |     2.07e-05 |   1.68e-06\n",
      "      130 |     1.68e-05 |   1.37e-06\n",
      "      140 |     1.38e-05 |   1.14e-06\n",
      "      150 |     1.15e-05 |   9.69e-07\n",
      "      160 |     9.67e-06 |   8.33e-07\n",
      "Done solving using HawkesEM in 222.71288204193115 seconds\n",
      "Launching the solver HawkesEM...\n",
      "  n_iter  | rel_baseline | rel_kernel\n",
      "        0 |     6.72e-01 |   7.68e-01\n",
      "       10 |     9.56e-04 |   1.62e-03\n",
      "       20 |     1.94e-03 |   2.55e-04\n",
      "       30 |     7.71e-04 |   6.03e-05\n",
      "       40 |     2.67e-04 |   3.72e-05\n",
      "       50 |     1.34e-04 |   1.93e-05\n",
      "       60 |     9.03e-05 |   9.62e-06\n",
      "       70 |     6.61e-05 |   5.67e-06\n",
      "       80 |     4.92e-05 |   3.92e-06\n",
      "       90 |     3.68e-05 |   2.95e-06\n",
      "      100 |     2.78e-05 |   2.33e-06\n",
      "      110 |     2.11e-05 |   1.92e-06\n",
      "      120 |     1.63e-05 |   1.62e-06\n",
      "      130 |     1.27e-05 |   1.40e-06\n",
      "      140 |     1.00e-05 |   1.22e-06\n",
      "      150 |     8.05e-06 |   1.07e-06\n",
      "Done solving using HawkesEM in 223.8770089149475 seconds\n",
      "Launching the solver HawkesEM...\n",
      "  n_iter  | rel_baseline | rel_kernel\n",
      "        0 |     6.94e-01 |   1.12e+00\n",
      "       10 |     6.61e-03 |   7.86e-04\n",
      "       20 |     9.76e-04 |   1.51e-04\n",
      "       30 |     5.95e-05 |   3.88e-05\n",
      "       40 |     1.76e-04 |   1.52e-05\n",
      "       50 |     1.49e-04 |   8.02e-06\n",
      "       60 |     1.10e-04 |   5.05e-06\n",
      "       70 |     7.91e-05 |   3.47e-06\n",
      "       80 |     5.76e-05 |   2.50e-06\n",
      "       90 |     4.28e-05 |   1.85e-06\n",
      "      100 |     3.25e-05 |   1.41e-06\n",
      "      110 |     2.52e-05 |   1.10e-06\n",
      "      120 |     1.99e-05 |   8.74e-07\n",
      "      130 |     1.59e-05 |   7.12e-07\n",
      "      140 |     1.29e-05 |   5.90e-07\n",
      "      150 |     1.06e-05 |   4.97e-07\n",
      "      160 |     8.84e-06 |   4.25e-07\n",
      "Done solving using HawkesEM in 259.5056116580963 seconds\n"
     ]
    }
   ],
   "source": [
    "learners = []\n",
    "for k_size in k_sizes:\n",
    "    em_learner = TrainEM([times], k_time=k_time, k_size=k_size)\n",
    "    learners.append(em_learner)"
   ]
  },
  {
   "cell_type": "markdown",
   "metadata": {},
   "source": [
    "<h2>Evaluation</h2>"
   ]
  },
  {
   "cell_type": "markdown",
   "metadata": {},
   "source": [
    "<h3>Model Kernels</h3><br>\n",
    "Contains graphs of the kernels created through training"
   ]
  },
  {
   "cell_type": "code",
   "execution_count": 5,
   "metadata": {
    "scrolled": false
   },
   "outputs": [
    {
     "name": "stdout",
     "output_type": "stream",
     "text": [
      "kernel_size=18\n",
      "kernel_baseline=[0.15614207]\n"
     ]
    },
    {
     "data": {
      "image/png": "[encoded data removed]",
      "text/plain": [
       "<Figure size 432x288 with 1 Axes>"
      ]
     },
     "metadata": {
      "needs_background": "light"
     },
     "output_type": "display_data"
    },
    {
     "name": "stdout",
     "output_type": "stream",
     "text": [
      "kernel_size=36\n",
      "kernel_baseline=[0.13119463]\n"
     ]
    },
    {
     "data": {
      "image/png": "[encoded data removed]",
      "text/plain": [
       "<Figure size 432x288 with 1 Axes>"
      ]
     },
     "metadata": {
      "needs_background": "light"
     },
     "output_type": "display_data"
    },
    {
     "name": "stdout",
     "output_type": "stream",
     "text": [
      "kernel_size=72\n",
      "kernel_baseline=[0.10813109]\n"
     ]
    },
    {
     "data": {
      "image/png": "[encoded data removed]",
      "text/plain": [
       "<Figure size 432x288 with 1 Axes>"
      ]
     },
     "metadata": {
      "needs_background": "light"
     },
     "output_type": "display_data"
    },
    {
     "name": "stdout",
     "output_type": "stream",
     "text": [
      "kernel_size=180\n",
      "kernel_baseline=[0.09777939]\n"
     ]
    },
    {
     "data": {
      "image/png": "[encoded data removed]",
      "text/plain": [
       "<Figure size 432x288 with 1 Axes>"
      ]
     },
     "metadata": {
      "needs_background": "light"
     },
     "output_type": "display_data"
    },
    {
     "name": "stdout",
     "output_type": "stream",
     "text": [
      "kernel_size=360\n",
      "kernel_baseline=[0.09289677]\n"
     ]
    },
    {
     "data": {
      "image/png": "[encoded data removed]",
      "text/plain": [
       "<Figure size 432x288 with 1 Axes>"
      ]
     },
     "metadata": {
      "needs_background": "light"
     },
     "output_type": "display_data"
    },
    {
     "name": "stdout",
     "output_type": "stream",
     "text": [
      "kernel_size=720\n",
      "kernel_baseline=[0.07394994]\n"
     ]
    },
    {
     "data": {
      "image/png": "[encoded data removed]",
      "text/plain": [
       "<Figure size 432x288 with 1 Axes>"
      ]
     },
     "metadata": {
      "needs_background": "light"
     },
     "output_type": "display_data"
    }
   ],
   "source": [
    "#display and save each kernel learned\n",
    "for i, learner in enumerate(learners):\n",
    "    #save\n",
    "    smodel = SavedModel(learner, k_time, k_sizes[i])\n",
    "    fname = os.path.join(model_folder, f\"HawkesEM_{k_sizes[i]}_RHS_model_c{c_id}.npz\")\n",
    "    smodel.Save(fname)\n",
    "    \n",
    "    #display\n",
    "    print(f\"kernel_size={k_sizes[i]}\")\n",
    "    print(f\"kernel_baseline={smodel.baseline}\")\n",
    "    plot_hawkes_kernels(learner)\n",
    "    plt.show()"
   ]
  },
  {
   "cell_type": "markdown",
   "metadata": {},
   "source": [
    "<h3>Model Simulation and Statistics</h3><br>\n",
    "Models are simulated to generate new points and statistics computed on those points"
   ]
  },
  {
   "cell_type": "code",
   "execution_count": 6,
   "metadata": {},
   "outputs": [
    {
     "name": "stdout",
     "output_type": "stream",
     "text": [
      "=== Kernel Size: 18 ===\n",
      "Total points: 54702\n",
      "Intensity Baseline: [0.15614207]\n",
      "mean: 3.6559848818865257\n",
      "median: 1.3239395489399612\n",
      "std: 5.170358747512402\n",
      "min: 4.669869667850435e-06\n",
      "max: 54.01181207194895\n",
      "===========================\n",
      "\n",
      "=== Kernel Size: 36 ===\n",
      "Total points: 47539\n",
      "Intensity Baseline: [0.13119463]\n",
      "mean: 4.206853240549506\n",
      "median: 1.3318737582594622\n",
      "std: 6.211026763531047\n",
      "min: 2.9620387067552656e-05\n",
      "max: 70.89550009405593\n",
      "===========================\n",
      "\n",
      "=== Kernel Size: 72 ===\n",
      "Total points: 21768\n",
      "Intensity Baseline: [0.10813109]\n",
      "mean: 9.187712353491305\n",
      "median: 6.311129027490097\n",
      "std: 9.304489282666376\n",
      "min: 0.00041903904639184475\n",
      "max: 100.11585958194337\n",
      "===========================\n",
      "\n",
      "=== Kernel Size: 180 ===\n",
      "Total points: 19509\n",
      "Intensity Baseline: [0.09777939]\n",
      "mean: 10.251264811769973\n",
      "median: 7.175547213759273\n",
      "std: 10.146697652289934\n",
      "min: 0.0009480030566919595\n",
      "max: 91.1322785280936\n",
      "===========================\n",
      "\n",
      "=== Kernel Size: 360 ===\n",
      "Total points: 18763\n",
      "Intensity Baseline: [0.09289677]\n",
      "mean: 10.658211247108072\n",
      "median: 7.395264954742743\n",
      "std: 10.682658179104584\n",
      "min: 8.712190901860595e-05\n",
      "max: 120.46814420551527\n",
      "===========================\n",
      "\n",
      "=== Kernel Size: 720 ===\n",
      "Total points: 14790\n",
      "Intensity Baseline: [0.07394994]\n",
      "mean: 13.521693731480397\n",
      "median: 9.2608233951687\n",
      "std: 13.57653740536428\n",
      "min: 0.00175588415004313\n",
      "max: 133.92815420813713\n",
      "===========================\n",
      "\n"
     ]
    }
   ],
   "source": [
    "for size in k_sizes:\n",
    "    #load the model\n",
    "    fname = os.path.join(model_folder, f\"HawkesEM_{size}_RHS_model_c{c_id}.npz\")\n",
    "    smodel = np.load(fname, allow_pickle=True)['savedmodel'].item()\n",
    "    \n",
    "    #simulate new points\n",
    "    synth_deltas = np.ediff1d(SimEM(smodel, time=sim_time))\n",
    "    \n",
    "    #print the stats\n",
    "    print(f\"=== Kernel Size: {smodel.k_size} ===\")\n",
    "    print(f\"Total points: {len(synth_deltas)}\")\n",
    "    print(f\"Intensity Baseline: {smodel.baseline}\")\n",
    "    print(f\"mean: {np.mean(synth_deltas)}\")\n",
    "    print(f\"median: {np.median(synth_deltas)}\")\n",
    "    print(f\"std: {np.std(synth_deltas)}\")\n",
    "    print(f\"min: {np.min(synth_deltas)}\")\n",
    "    print(f\"max: {np.max(synth_deltas)}\")\n",
    "    print(\"===========================\")\n",
    "    print()\n",
    "    \n",
    "    #save the simulation\n",
    "    fname = os.path.join(dist_folder, f\"HawkesEM_{size}_RHS_dist_c{c_id}.npz\")\n",
    "    np.savez(fname, deltas=synth_deltas)"
   ]
  }
 ],
 "metadata": {
  "kernelspec": {
   "display_name": "Python 3",
   "language": "python",
   "name": "python3"
  },
  "language_info": {
   "codemirror_mode": {
    "name": "ipython",
    "version": 3
   },
   "file_extension": ".py",
   "mimetype": "text/x-python",
   "name": "python",
   "nbconvert_exporter": "python",
   "pygments_lexer": "ipython3",
   "version": "3.7.7"
  }
 },
 "nbformat": 4,
 "nbformat_minor": 4
}
